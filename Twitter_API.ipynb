{
  "nbformat": 4,
  "nbformat_minor": 0,
  "metadata": {
    "colab": {
      "name": "Twitter API.ipynb",
      "provenance": []
    },
    "kernelspec": {
      "name": "python3",
      "display_name": "Python 3"
    }
  },
  "cells": [
    {
      "cell_type": "markdown",
      "metadata": {
        "id": "dwn_MZPa7ens"
      },
      "source": [
        "## For single image."
      ]
    },
    {
      "cell_type": "code",
      "metadata": {
        "id": "osaCTN-3_EFG",
        "colab": {
          "base_uri": "https://localhost:8080/"
        },
        "outputId": "0b17fb68-1f47-4782-9475-6167aca150c9"
      },
      "source": [
        "import tweepy \r\n",
        "  \r\n",
        "# personal details \r\n",
        "consumer_key =\"jwZqDt5330sdZnDNxnuwiRjUE\"\r\n",
        "consumer_secret =\"XLiJqm0ewez4G9sMzhVJaAepnOldGYG3DJIQ1wg89KktH9SvNU\"\r\n",
        "access_token =\"825670162334482432-QFNCn1xhud3if6CsPNCWKBRLvgsghSr\"\r\n",
        "access_token_secret =\"rMrG6E5L2b59Er4pXJweA4mByFbcwBB4i6ioIC8F5KP49\"\r\n",
        "  \r\n",
        "# authentication of consumer key and secret \r\n",
        "auth = tweepy.OAuthHandler(consumer_key, consumer_secret) \r\n",
        "  \r\n",
        "# authentication of access token and secret \r\n",
        "auth.set_access_token(access_token, access_token_secret) \r\n",
        "\r\n",
        "api = tweepy.API(auth, wait_on_rate_limit=True, wait_on_rate_limit_notify=True)\r\n",
        "  \r\n",
        "status_type = input(\"Tweet is image or text?\")\r\n",
        "\r\n",
        "if status_type == 'text':\r\n",
        "  api.update_status(status =\"Hello Everyone !\")\r\n",
        "\r\n",
        "else:\r\n",
        " tweet =\"Hello Everyone !\"\r\n",
        " image_path =\"/content/image_page_0 (1).png\"\r\n",
        " status = api.update_with_media(image_pat   h, tweet)  \r\n",
        " api.update_status(status = tweet) "
      ],
      "execution_count": 12,
      "outputs": [
        {
          "output_type": "stream",
          "text": [
            "Tweet is image or text?image\n"
          ],
          "name": "stdout"
        }
      ]
    },
    {
      "cell_type": "markdown",
      "metadata": {
        "id": "GAXrtVrz7iwb"
      },
      "source": [
        "## For multiple images"
      ]
    },
    {
      "cell_type": "code",
      "metadata": {
        "colab": {
          "base_uri": "https://localhost:8080/"
        },
        "id": "jmab8SgA6U77",
        "outputId": "ce64a3fc-b8be-48d8-d8d1-405c038c8b3b"
      },
      "source": [
        "import tweepy \r\n",
        "  \r\n",
        "# personal details \r\n",
        "consumer_key =\"jwZqDt5330sdZnDNxnuwiRjUE\"\r\n",
        "consumer_secret =\"XLiJqm0ewez4G9sMzhVJaAepnOldGYG3DJIQ1wg89KktH9SvNU\"\r\n",
        "access_token =\"825670162334482432-QFNCn1xhud3if6CsPNCWKBRLvgsghSr\"\r\n",
        "access_token_secret =\"rMrG6E5L2b59Er4pXJweA4mByFbcwBB4i6ioIC8F5KP49\"\r\n",
        "  \r\n",
        "# authentication of consumer key and secret \r\n",
        "auth = tweepy.OAuthHandler(consumer_key, consumer_secret) \r\n",
        "  \r\n",
        "# authentication of access token and secret \r\n",
        "auth.set_access_token(access_token, access_token_secret) \r\n",
        "\r\n",
        "api = tweepy.API(auth, wait_on_rate_limit=True, wait_on_rate_limit_notify=True)\r\n",
        "  \r\n",
        "status_type = input(\"Tweet is image or text?\")\r\n",
        "\r\n",
        "if status_type == 'text':\r\n",
        "  api.update_status(status =\"Hello Everyone !\")\r\n",
        "\r\n",
        "else:\r\n",
        "  filenames = ['/content/ext_font.png', '/content/image_page_0 (1).png']\r\n",
        "  media_ids = []\r\n",
        "  for filename in filenames:\r\n",
        "    res = api.media_upload(filename)\r\n",
        "    media_ids.append(res.media_id)\r\n",
        "    # Tweet with multiple images\r\n",
        "    api.update_status(status='many images!✨', media_ids=media_ids)"
      ],
      "execution_count": 15,
      "outputs": [
        {
          "output_type": "stream",
          "text": [
            "Tweet is image or text?image\n"
          ],
          "name": "stdout"
        }
      ]
    }
  ]
}